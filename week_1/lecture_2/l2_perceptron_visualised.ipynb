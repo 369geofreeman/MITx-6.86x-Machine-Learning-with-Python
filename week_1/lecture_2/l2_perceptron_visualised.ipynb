{
 "cells": [
  {
   "cell_type": "markdown",
   "metadata": {},
   "source": [
    "'''\n",
    "Author : Scoobypoopeepoo \n",
    "E-mail : peepeepoopoo873@gmail.com         \n",
    "\n",
    "About : The code sequentially iterates over each case of train data set and finds the vector theta\n",
    "        via perceptron. After each case the vector theta and the corresponding plane is drawn.\n",
    "        The case on which the loop is, is circled around\n",
    "        \n",
    "        A shuffle option is there to shuffle indices\n",
    "        \n",
    "'''"
   ]
  },
  {
   "cell_type": "code",
   "execution_count": null,
   "metadata": {},
   "outputs": [],
   "source": [
    "#IMPORTS\n",
    "\n",
    "import numpy as np\n",
    "import matplotlib.pyplot as plt"
   ]
  },
  {
   "cell_type": "code",
   "execution_count": null,
   "metadata": {},
   "outputs": [],
   "source": [
    "%matplotlib inline                                   "
   ]
  },
  {
   "cell_type": "code",
   "execution_count": null,
   "metadata": {},
   "outputs": [],
   "source": [
    "#TRAIN SET\n",
    "\n",
    "x1     = np.array([ 1, .5, -1, -.5,   1,   -2 ])     # x1 component of each train feature vector\n",
    "x2     = np.array([ 1,  1, -1, -.5, -.5,  -.25])     # x2 component of each train feature vector\n",
    "n      = len(x1)                                     # total cases in train set\n",
    "\n",
    "y      = np.array([ 1,  1, -1,  -1,  -1,   +1 ])     # label of each train vector\n",
    "\n",
    "# Now this is an alternate to the outer most loop that reshuffles the indices\n",
    "# In the notes it runs to T\n",
    "# feel free to uncomment the 5 lines below to reshuffle the indices, you will find a correct classifier after some reshuffling\n",
    "# the initial setup will NOT FIND a solution, but a little shuffling will\n",
    "\n",
    "#arr = np.arange(len(x1))                           # make a series from 0 : n-1  \n",
    "#np.random.shuffle(arr)                             # shuffle the above series\n",
    "#x1 = x1[arr]                                       # shuffle the training data as per above series \n",
    "#x2 = x2[arr]\n",
    "#y   = y[arr]\n",
    "\n",
    "c_map  = [\"green\" if i == 1 else \"red\" for i in y]   # will be needed later to color points according to label\n",
    "\n",
    "\n",
    "# PERCEPTRON ALGORITHM \n",
    "\n",
    "theta = np.zeros(2)                                # Initialize theta vector\n",
    "\n",
    "for i in range(n):\n",
    "    \n",
    "    ### ALGORITHM ###\n",
    "    \n",
    "    feature     = np.array([x1[i], x2[i]])           # create feature vector for i'th case\n",
    "    \n",
    "    if y[i]*(np.dot(theta,feature)) <= 0 :           # check for classification of i'th point\n",
    "        theta = theta + y[i] * feature\n",
    "        \n",
    "    print(\"Theta vector is : \" + str(theta))         # print updated theta\n",
    "    \n",
    "    \n",
    "    ### PLOTTING ###\n",
    "    \n",
    "    left = x1.min() - 1; right =x1.max() + 1         # the boundaries of plot  \n",
    "    bottom = x2.min() - 1 ; top =x2.max() + 1\n",
    "    plt.axis([left ,right ,bottom , top ])        \n",
    "    \n",
    "    plt.axhline(y=0, color='k',linestyle =\":\")       # plot x axis\n",
    "    plt.axvline(x=0, color='k',linestyle =\":\")       # plot y axis\n",
    "    \n",
    "    plt.scatter(x1, x2, color=c_map)                 # plot all train points  \n",
    "    plt.plot(x1[i],x2[i], marker='o', markersize=18  # plot a circle around the ith point \n",
    "             ,fillstyle='none',color='black')\n",
    "    \n",
    "    if np.linalg.norm(theta)!=0 :                    # plot theta vector \n",
    "        plt.plot([0,theta[0]/np.linalg.norm(theta)],[0,theta[1]/np.linalg.norm(theta)])\n",
    "        \n",
    "    if theta[1] != 0:                                # plot the decision boundary\n",
    "        plane_x = np.linspace(left,right,100)\n",
    "        plane_y = -(theta[0]*plane_x)/theta[1]\n",
    "        plt.plot(plane_x, plane_y, color ='black')    \n",
    "    \n",
    "    \n",
    "    plt.gca().set_aspect('equal', adjustable='box')  # set axis ratio equal\n",
    "    \n",
    "    plt.show()                                       # show the final plot \n",
    "    \n",
    "    \n",
    "   \n",
    "        "
   ]
  }
 ],
 "metadata": {
  "kernelspec": {
   "display_name": "Python 3",
   "language": "python",
   "name": "python3"
  },
  "language_info": {
   "codemirror_mode": {
    "name": "ipython",
    "version": 3
   },
   "file_extension": ".py",
   "mimetype": "text/x-python",
   "name": "python",
   "nbconvert_exporter": "python",
   "pygments_lexer": "ipython3",
   "version": "3.7.6"
  }
 },
 "nbformat": 4,
 "nbformat_minor": 2
}
